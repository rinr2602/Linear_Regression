{
 "cells": [
  {
   "cell_type": "code",
   "execution_count": 30,
   "id": "cbf6bd53-05fd-4be8-848a-6f394309e5c6",
   "metadata": {},
   "outputs": [],
   "source": [
    "import numpy as np\n",
    "import pandas as pd\n",
    "import matplotlib.pyplot as plt\n",
    "import seaborn as sns\n",
    "import statsmodels.api as sm\n",
    "from sklearn.model_selection import train_test_split\n",
    "from warnings import filterwarnings\n",
    "filterwarnings('ignore')\n",
    "import scipy.stats as stats"
   ]
  },
  {
   "cell_type": "code",
   "execution_count": 19,
   "id": "3fdabf3d-da27-46f2-981d-7c04a0c8d448",
   "metadata": {},
   "outputs": [
    {
     "data": {
      "text/html": [
       "<div>\n",
       "<style scoped>\n",
       "    .dataframe tbody tr th:only-of-type {\n",
       "        vertical-align: middle;\n",
       "    }\n",
       "\n",
       "    .dataframe tbody tr th {\n",
       "        vertical-align: top;\n",
       "    }\n",
       "\n",
       "    .dataframe thead th {\n",
       "        text-align: right;\n",
       "    }\n",
       "</style>\n",
       "<table border=\"1\" class=\"dataframe\">\n",
       "  <thead>\n",
       "    <tr style=\"text-align: right;\">\n",
       "      <th></th>\n",
       "      <th>Country</th>\n",
       "      <th>Corruption_Index</th>\n",
       "      <th>Gini_Index</th>\n",
       "    </tr>\n",
       "  </thead>\n",
       "  <tbody>\n",
       "    <tr>\n",
       "      <th>0</th>\n",
       "      <td>Hong Kong</td>\n",
       "      <td>77</td>\n",
       "      <td>53.7</td>\n",
       "    </tr>\n",
       "    <tr>\n",
       "      <th>1</th>\n",
       "      <td>South Korea</td>\n",
       "      <td>53</td>\n",
       "      <td>30.2</td>\n",
       "    </tr>\n",
       "    <tr>\n",
       "      <th>2</th>\n",
       "      <td>China</td>\n",
       "      <td>40</td>\n",
       "      <td>46.2</td>\n",
       "    </tr>\n",
       "    <tr>\n",
       "      <th>3</th>\n",
       "      <td>Italy</td>\n",
       "      <td>47</td>\n",
       "      <td>32.7</td>\n",
       "    </tr>\n",
       "    <tr>\n",
       "      <th>4</th>\n",
       "      <td>Mongolia</td>\n",
       "      <td>38</td>\n",
       "      <td>36.5</td>\n",
       "    </tr>\n",
       "  </tbody>\n",
       "</table>\n",
       "</div>"
      ],
      "text/plain": [
       "       Country  Corruption_Index  Gini_Index\n",
       "0    Hong Kong                77        53.7\n",
       "1  South Korea                53        30.2\n",
       "2        China                40        46.2\n",
       "3        Italy                47        32.7\n",
       "4     Mongolia                38        36.5"
      ]
     },
     "execution_count": 19,
     "metadata": {},
     "output_type": "execute_result"
    }
   ],
   "source": [
    "df_country = pd.read_csv('country.csv')\n",
    "df_country.head()"
   ]
  },
  {
   "cell_type": "code",
   "execution_count": 20,
   "id": "019946d3-6022-40ee-aa31-7c4f9112404a",
   "metadata": {},
   "outputs": [
    {
     "data": {
      "text/plain": [
       "Country\n",
       "Hong Kong        1\n",
       "South Korea      1\n",
       "Greece           1\n",
       "Argentina        1\n",
       "Romania          1\n",
       "Portugal         1\n",
       "Russia           1\n",
       "United States    1\n",
       "France           1\n",
       "Denmark          1\n",
       "Sweden           1\n",
       "Germany          1\n",
       "Canada           1\n",
       "UK               1\n",
       "Norway           1\n",
       "Austria          1\n",
       "Mongolia         1\n",
       "Italy            1\n",
       "China            1\n",
       "Thailand         1\n",
       "Name: count, dtype: int64"
      ]
     },
     "execution_count": 20,
     "metadata": {},
     "output_type": "execute_result"
    }
   ],
   "source": [
    "df_country['Country'].value_counts()"
   ]
  },
  {
   "cell_type": "code",
   "execution_count": 28,
   "id": "5b65b092-c558-42b6-8feb-ed2e05196c99",
   "metadata": {},
   "outputs": [
    {
     "data": {
      "text/plain": [
       "20"
      ]
     },
     "execution_count": 28,
     "metadata": {},
     "output_type": "execute_result"
    }
   ],
   "source": [
    "df_country['Country'].nunique()"
   ]
  },
  {
   "cell_type": "code",
   "execution_count": 21,
   "id": "4f50798c-ff92-496f-ac41-45cdf67809ef",
   "metadata": {},
   "outputs": [
    {
     "data": {
      "text/plain": [
       "(20, 3)"
      ]
     },
     "execution_count": 21,
     "metadata": {},
     "output_type": "execute_result"
    }
   ],
   "source": [
    "df_country.shape"
   ]
  },
  {
   "cell_type": "code",
   "execution_count": 22,
   "id": "b3027bcb-6a02-48bc-af35-bd3db6d8fb35",
   "metadata": {},
   "outputs": [
    {
     "data": {
      "text/html": [
       "<div>\n",
       "<style scoped>\n",
       "    .dataframe tbody tr th:only-of-type {\n",
       "        vertical-align: middle;\n",
       "    }\n",
       "\n",
       "    .dataframe tbody tr th {\n",
       "        vertical-align: top;\n",
       "    }\n",
       "\n",
       "    .dataframe thead th {\n",
       "        text-align: right;\n",
       "    }\n",
       "</style>\n",
       "<table border=\"1\" class=\"dataframe\">\n",
       "  <thead>\n",
       "    <tr style=\"text-align: right;\">\n",
       "      <th></th>\n",
       "      <th>Corruption_Index</th>\n",
       "      <th>Gini_Index</th>\n",
       "    </tr>\n",
       "  </thead>\n",
       "  <tbody>\n",
       "    <tr>\n",
       "      <th>count</th>\n",
       "      <td>20.00000</td>\n",
       "      <td>20.000000</td>\n",
       "    </tr>\n",
       "    <tr>\n",
       "      <th>mean</th>\n",
       "      <td>61.70000</td>\n",
       "      <td>34.740000</td>\n",
       "    </tr>\n",
       "    <tr>\n",
       "      <th>std</th>\n",
       "      <td>20.61706</td>\n",
       "      <td>7.384579</td>\n",
       "    </tr>\n",
       "    <tr>\n",
       "      <th>min</th>\n",
       "      <td>29.00000</td>\n",
       "      <td>23.500000</td>\n",
       "    </tr>\n",
       "    <tr>\n",
       "      <th>25%</th>\n",
       "      <td>43.00000</td>\n",
       "      <td>30.175000</td>\n",
       "    </tr>\n",
       "    <tr>\n",
       "      <th>50%</th>\n",
       "      <td>65.50000</td>\n",
       "      <td>33.850000</td>\n",
       "    </tr>\n",
       "    <tr>\n",
       "      <th>75%</th>\n",
       "      <td>81.00000</td>\n",
       "      <td>39.575000</td>\n",
       "    </tr>\n",
       "    <tr>\n",
       "      <th>max</th>\n",
       "      <td>90.00000</td>\n",
       "      <td>53.700000</td>\n",
       "    </tr>\n",
       "  </tbody>\n",
       "</table>\n",
       "</div>"
      ],
      "text/plain": [
       "       Corruption_Index  Gini_Index\n",
       "count          20.00000   20.000000\n",
       "mean           61.70000   34.740000\n",
       "std            20.61706    7.384579\n",
       "min            29.00000   23.500000\n",
       "25%            43.00000   30.175000\n",
       "50%            65.50000   33.850000\n",
       "75%            81.00000   39.575000\n",
       "max            90.00000   53.700000"
      ]
     },
     "execution_count": 22,
     "metadata": {},
     "output_type": "execute_result"
    }
   ],
   "source": [
    "df_country[['Corruption_Index','Gini_Index']].describe()"
   ]
  },
  {
   "cell_type": "code",
   "execution_count": 23,
   "id": "2b68af8c-a217-4efd-9909-d0211bf71aa7",
   "metadata": {},
   "outputs": [],
   "source": [
    "Y = df_country['Corruption_Index']\n",
    "X = df_country['Gini_Index']"
   ]
  },
  {
   "cell_type": "code",
   "execution_count": 24,
   "id": "20897597-02bc-42ef-bdc4-e93dec1566ff",
   "metadata": {},
   "outputs": [],
   "source": [
    "# adding constant for the intercept\n",
    "X = sm.add_constant(X)\n",
    "\n",
    "SLR_model = sm.OLS(Y,X).fit()"
   ]
  },
  {
   "cell_type": "code",
   "execution_count": 25,
   "id": "b608beef-0033-4040-b2a8-64540d62dd4b",
   "metadata": {},
   "outputs": [
    {
     "data": {
      "text/html": [
       "<table class=\"simpletable\">\n",
       "<caption>OLS Regression Results</caption>\n",
       "<tr>\n",
       "  <th>Dep. Variable:</th>    <td>Corruption_Index</td> <th>  R-squared:         </th> <td>   0.215</td>\n",
       "</tr>\n",
       "<tr>\n",
       "  <th>Model:</th>                   <td>OLS</td>       <th>  Adj. R-squared:    </th> <td>   0.172</td>\n",
       "</tr>\n",
       "<tr>\n",
       "  <th>Method:</th>             <td>Least Squares</td>  <th>  F-statistic:       </th> <td>   4.936</td>\n",
       "</tr>\n",
       "<tr>\n",
       "  <th>Date:</th>             <td>Sat, 27 Jul 2024</td> <th>  Prob (F-statistic):</th>  <td>0.0394</td> \n",
       "</tr>\n",
       "<tr>\n",
       "  <th>Time:</th>                 <td>07:48:22</td>     <th>  Log-Likelihood:    </th> <td> -85.965</td>\n",
       "</tr>\n",
       "<tr>\n",
       "  <th>No. Observations:</th>      <td>    20</td>      <th>  AIC:               </th> <td>   175.9</td>\n",
       "</tr>\n",
       "<tr>\n",
       "  <th>Df Residuals:</th>          <td>    18</td>      <th>  BIC:               </th> <td>   177.9</td>\n",
       "</tr>\n",
       "<tr>\n",
       "  <th>Df Model:</th>              <td>     1</td>      <th>                     </th>     <td> </td>   \n",
       "</tr>\n",
       "<tr>\n",
       "  <th>Covariance Type:</th>      <td>nonrobust</td>    <th>                     </th>     <td> </td>   \n",
       "</tr>\n",
       "</table>\n",
       "<table class=\"simpletable\">\n",
       "<tr>\n",
       "       <td></td>         <th>coef</th>     <th>std err</th>      <th>t</th>      <th>P>|t|</th>  <th>[0.025</th>    <th>0.975]</th>  \n",
       "</tr>\n",
       "<tr>\n",
       "  <th>const</th>      <td>  106.6950</td> <td>   20.682</td> <td>    5.159</td> <td> 0.000</td> <td>   63.243</td> <td>  150.147</td>\n",
       "</tr>\n",
       "<tr>\n",
       "  <th>Gini_Index</th> <td>   -1.2952</td> <td>    0.583</td> <td>   -2.222</td> <td> 0.039</td> <td>   -2.520</td> <td>   -0.070</td>\n",
       "</tr>\n",
       "</table>\n",
       "<table class=\"simpletable\">\n",
       "<tr>\n",
       "  <th>Omnibus:</th>       <td> 1.213</td> <th>  Durbin-Watson:     </th> <td>   1.192</td>\n",
       "</tr>\n",
       "<tr>\n",
       "  <th>Prob(Omnibus):</th> <td> 0.545</td> <th>  Jarque-Bera (JB):  </th> <td>   1.005</td>\n",
       "</tr>\n",
       "<tr>\n",
       "  <th>Skew:</th>          <td> 0.333</td> <th>  Prob(JB):          </th> <td>   0.605</td>\n",
       "</tr>\n",
       "<tr>\n",
       "  <th>Kurtosis:</th>      <td> 2.127</td> <th>  Cond. No.          </th> <td>    175.</td>\n",
       "</tr>\n",
       "</table><br/><br/>Notes:<br/>[1] Standard Errors assume that the covariance matrix of the errors is correctly specified."
      ],
      "text/latex": [
       "\\begin{center}\n",
       "\\begin{tabular}{lclc}\n",
       "\\toprule\n",
       "\\textbf{Dep. Variable:}    & Corruption\\_Index & \\textbf{  R-squared:         } &     0.215   \\\\\n",
       "\\textbf{Model:}            &        OLS        & \\textbf{  Adj. R-squared:    } &     0.172   \\\\\n",
       "\\textbf{Method:}           &   Least Squares   & \\textbf{  F-statistic:       } &     4.936   \\\\\n",
       "\\textbf{Date:}             &  Sat, 27 Jul 2024 & \\textbf{  Prob (F-statistic):} &   0.0394    \\\\\n",
       "\\textbf{Time:}             &      07:48:22     & \\textbf{  Log-Likelihood:    } &   -85.965   \\\\\n",
       "\\textbf{No. Observations:} &           20      & \\textbf{  AIC:               } &     175.9   \\\\\n",
       "\\textbf{Df Residuals:}     &           18      & \\textbf{  BIC:               } &     177.9   \\\\\n",
       "\\textbf{Df Model:}         &            1      & \\textbf{                     } &             \\\\\n",
       "\\textbf{Covariance Type:}  &     nonrobust     & \\textbf{                     } &             \\\\\n",
       "\\bottomrule\n",
       "\\end{tabular}\n",
       "\\begin{tabular}{lcccccc}\n",
       "                     & \\textbf{coef} & \\textbf{std err} & \\textbf{t} & \\textbf{P$> |$t$|$} & \\textbf{[0.025} & \\textbf{0.975]}  \\\\\n",
       "\\midrule\n",
       "\\textbf{const}       &     106.6950  &       20.682     &     5.159  &         0.000        &       63.243    &      150.147     \\\\\n",
       "\\textbf{Gini\\_Index} &      -1.2952  &        0.583     &    -2.222  &         0.039        &       -2.520    &       -0.070     \\\\\n",
       "\\bottomrule\n",
       "\\end{tabular}\n",
       "\\begin{tabular}{lclc}\n",
       "\\textbf{Omnibus:}       &  1.213 & \\textbf{  Durbin-Watson:     } &    1.192  \\\\\n",
       "\\textbf{Prob(Omnibus):} &  0.545 & \\textbf{  Jarque-Bera (JB):  } &    1.005  \\\\\n",
       "\\textbf{Skew:}          &  0.333 & \\textbf{  Prob(JB):          } &    0.605  \\\\\n",
       "\\textbf{Kurtosis:}      &  2.127 & \\textbf{  Cond. No.          } &     175.  \\\\\n",
       "\\bottomrule\n",
       "\\end{tabular}\n",
       "%\\caption{OLS Regression Results}\n",
       "\\end{center}\n",
       "\n",
       "Notes: \\newline\n",
       " [1] Standard Errors assume that the covariance matrix of the errors is correctly specified."
      ],
      "text/plain": [
       "<class 'statsmodels.iolib.summary.Summary'>\n",
       "\"\"\"\n",
       "                            OLS Regression Results                            \n",
       "==============================================================================\n",
       "Dep. Variable:       Corruption_Index   R-squared:                       0.215\n",
       "Model:                            OLS   Adj. R-squared:                  0.172\n",
       "Method:                 Least Squares   F-statistic:                     4.936\n",
       "Date:                Sat, 27 Jul 2024   Prob (F-statistic):             0.0394\n",
       "Time:                        07:48:22   Log-Likelihood:                -85.965\n",
       "No. Observations:                  20   AIC:                             175.9\n",
       "Df Residuals:                      18   BIC:                             177.9\n",
       "Df Model:                           1                                         \n",
       "Covariance Type:            nonrobust                                         \n",
       "==============================================================================\n",
       "                 coef    std err          t      P>|t|      [0.025      0.975]\n",
       "------------------------------------------------------------------------------\n",
       "const        106.6950     20.682      5.159      0.000      63.243     150.147\n",
       "Gini_Index    -1.2952      0.583     -2.222      0.039      -2.520      -0.070\n",
       "==============================================================================\n",
       "Omnibus:                        1.213   Durbin-Watson:                   1.192\n",
       "Prob(Omnibus):                  0.545   Jarque-Bera (JB):                1.005\n",
       "Skew:                           0.333   Prob(JB):                        0.605\n",
       "Kurtosis:                       2.127   Cond. No.                         175.\n",
       "==============================================================================\n",
       "\n",
       "Notes:\n",
       "[1] Standard Errors assume that the covariance matrix of the errors is correctly specified.\n",
       "\"\"\""
      ]
     },
     "execution_count": 25,
     "metadata": {},
     "output_type": "execute_result"
    }
   ],
   "source": [
    "SLR_model.summary()"
   ]
  },
  {
   "cell_type": "code",
   "execution_count": 26,
   "id": "fc5351ce-8ef6-413b-b67a-0b69b65867b2",
   "metadata": {},
   "outputs": [
    {
     "data": {
      "text/html": [
       "<table class=\"simpletable\">\n",
       "<tr>\n",
       "        <td>Model:</td>               <td>OLS</td>         <td>Adj. R-squared:</td>     <td>0.172</td> \n",
       "</tr>\n",
       "<tr>\n",
       "  <td>Dependent Variable:</td> <td>Corruption_Index</td>        <td>AIC:</td>         <td>175.9296</td>\n",
       "</tr>\n",
       "<tr>\n",
       "         <td>Date:</td>        <td>2024-07-27 07:48</td>        <td>BIC:</td>         <td>177.9211</td>\n",
       "</tr>\n",
       "<tr>\n",
       "   <td>No. Observations:</td>         <td>20</td>          <td>Log-Likelihood:</td>    <td>-85.965</td>\n",
       "</tr>\n",
       "<tr>\n",
       "       <td>Df Model:</td>              <td>1</td>           <td>F-statistic:</td>       <td>4.936</td> \n",
       "</tr>\n",
       "<tr>\n",
       "     <td>Df Residuals:</td>           <td>18</td>        <td>Prob (F-statistic):</td>  <td>0.0394</td> \n",
       "</tr>\n",
       "<tr>\n",
       "      <td>R-squared:</td>            <td>0.215</td>            <td>Scale:</td>         <td>352.12</td> \n",
       "</tr>\n",
       "</table>\n",
       "<table class=\"simpletable\">\n",
       "<tr>\n",
       "       <td></td>        <th>Coef.</th>  <th>Std.Err.</th>    <th>t</th>     <th>P>|t|</th> <th>[0.025</th>   <th>0.975]</th> \n",
       "</tr>\n",
       "<tr>\n",
       "  <th>const</th>      <td>106.6950</td>  <td>20.6822</td> <td>5.1588</td>  <td>0.0001</td> <td>63.2433</td> <td>150.1468</td>\n",
       "</tr>\n",
       "<tr>\n",
       "  <th>Gini_Index</th>  <td>-1.2952</td>  <td>0.5830</td>  <td>-2.2217</td> <td>0.0394</td> <td>-2.5200</td>  <td>-0.0704</td>\n",
       "</tr>\n",
       "</table>\n",
       "<table class=\"simpletable\">\n",
       "<tr>\n",
       "     <td>Omnibus:</td>    <td>1.213</td>  <td>Durbin-Watson:</td>   <td>1.192</td>\n",
       "</tr>\n",
       "<tr>\n",
       "  <td>Prob(Omnibus):</td> <td>0.545</td> <td>Jarque-Bera (JB):</td> <td>1.005</td>\n",
       "</tr>\n",
       "<tr>\n",
       "       <td>Skew:</td>     <td>0.333</td>     <td>Prob(JB):</td>     <td>0.605</td>\n",
       "</tr>\n",
       "<tr>\n",
       "     <td>Kurtosis:</td>   <td>2.127</td>  <td>Condition No.:</td>    <td>175</td> \n",
       "</tr>\n",
       "</table><br/>\n",
       "Notes:<br/>\n",
       "[1] Standard Errors assume that the covariance matrix of the errors is correctly specified."
      ],
      "text/latex": [
       "\\begin{table}\n",
       "\\caption{Results: Ordinary least squares}\n",
       "\\label{}\n",
       "\\begin{center}\n",
       "\\begin{tabular}{llll}\n",
       "\\hline\n",
       "Model:              & OLS               & Adj. R-squared:     & 0.172     \\\\\n",
       "Dependent Variable: & Corruption\\_Index & AIC:                & 175.9296  \\\\\n",
       "Date:               & 2024-07-27 07:48  & BIC:                & 177.9211  \\\\\n",
       "No. Observations:   & 20                & Log-Likelihood:     & -85.965   \\\\\n",
       "Df Model:           & 1                 & F-statistic:        & 4.936     \\\\\n",
       "Df Residuals:       & 18                & Prob (F-statistic): & 0.0394    \\\\\n",
       "R-squared:          & 0.215             & Scale:              & 352.12    \\\\\n",
       "\\hline\n",
       "\\end{tabular}\n",
       "\\end{center}\n",
       "\n",
       "\\begin{center}\n",
       "\\begin{tabular}{lrrrrrr}\n",
       "\\hline\n",
       "            &    Coef. & Std.Err. &       t & P$> |$t$|$ &  [0.025 &   0.975]  \\\\\n",
       "\\hline\n",
       "const       & 106.6950 &  20.6822 &  5.1588 &      0.0001 & 63.2433 & 150.1468  \\\\\n",
       "Gini\\_Index &  -1.2952 &   0.5830 & -2.2217 &      0.0394 & -2.5200 &  -0.0704  \\\\\n",
       "\\hline\n",
       "\\end{tabular}\n",
       "\\end{center}\n",
       "\n",
       "\\begin{center}\n",
       "\\begin{tabular}{llll}\n",
       "\\hline\n",
       "Omnibus:       & 1.213 & Durbin-Watson:    & 1.192  \\\\\n",
       "Prob(Omnibus): & 0.545 & Jarque-Bera (JB): & 1.005  \\\\\n",
       "Skew:          & 0.333 & Prob(JB):         & 0.605  \\\\\n",
       "Kurtosis:      & 2.127 & Condition No.:    & 175    \\\\\n",
       "\\hline\n",
       "\\end{tabular}\n",
       "\\end{center}\n",
       "\\end{table}\n",
       "\\bigskip\n",
       "Notes: \\newline \n",
       "[1] Standard Errors assume that the covariance matrix of the errors is correctly specified."
      ],
      "text/plain": [
       "<class 'statsmodels.iolib.summary2.Summary'>\n",
       "\"\"\"\n",
       "                 Results: Ordinary least squares\n",
       "=================================================================\n",
       "Model:              OLS              Adj. R-squared:     0.172   \n",
       "Dependent Variable: Corruption_Index AIC:                175.9296\n",
       "Date:               2024-07-27 07:48 BIC:                177.9211\n",
       "No. Observations:   20               Log-Likelihood:     -85.965 \n",
       "Df Model:           1                F-statistic:        4.936   \n",
       "Df Residuals:       18               Prob (F-statistic): 0.0394  \n",
       "R-squared:          0.215            Scale:              352.12  \n",
       "------------------------------------------------------------------\n",
       "             Coef.    Std.Err.     t     P>|t|    [0.025   0.975] \n",
       "------------------------------------------------------------------\n",
       "const       106.6950   20.6822   5.1588  0.0001  63.2433  150.1468\n",
       "Gini_Index   -1.2952    0.5830  -2.2217  0.0394  -2.5200   -0.0704\n",
       "-----------------------------------------------------------------\n",
       "Omnibus:              1.213        Durbin-Watson:           1.192\n",
       "Prob(Omnibus):        0.545        Jarque-Bera (JB):        1.005\n",
       "Skew:                 0.333        Prob(JB):                0.605\n",
       "Kurtosis:             2.127        Condition No.:           175  \n",
       "=================================================================\n",
       "Notes:\n",
       "[1] Standard Errors assume that the covariance matrix of the\n",
       "errors is correctly specified.\n",
       "\"\"\""
      ]
     },
     "execution_count": 26,
     "metadata": {},
     "output_type": "execute_result"
    }
   ],
   "source": [
    "SLR_model.summary2()"
   ]
  },
  {
   "cell_type": "code",
   "execution_count": 27,
   "id": "a2afb9cb-4303-48f2-8035-a68f8d1f038e",
   "metadata": {},
   "outputs": [
    {
     "data": {
      "text/plain": [
       "(106.69501055874487, -1.2951931651912754)"
      ]
     },
     "execution_count": 27,
     "metadata": {},
     "output_type": "execute_result"
    }
   ],
   "source": [
    "b0, b1 = SLR_model.params\n",
    "b0, b1"
   ]
  },
  {
   "cell_type": "markdown",
   "id": "c5f868f2-6def-4e3e-86f2-2deef8255fd3",
   "metadata": {},
   "source": [
    "From this, the coefficents are 106.69501055874487 (b0) and -1.2951931651912754 (b1).\n",
    "We can write the LR equation as Y = b0 + b1*X\n",
    "\n",
    "So, here we can say that for every one unit increase in the Gini Index, the Corruption Perception Index is expected to increase by b1, ie., -1.2951931651912754 units."
   ]
  },
  {
   "cell_type": "markdown",
   "id": "21f258af-3e0f-474b-b98d-e3cfe6f32cd9",
   "metadata": {},
   "source": [
    "0.215 is the R-squared value. This means that 21.5% of the variation in the Corruption Perception Index is explained by the Gini Index."
   ]
  },
  {
   "cell_type": "markdown",
   "id": "3216682d-eab5-4c51-93f2-a4daf4c78f0e",
   "metadata": {},
   "source": [
    "p-value is 0.0394 which is lesser than 0.1 (alpha value). This mean that we fail to reject the null hypothesis and that there IS a statistically significant relationship between corruption perception index and Gini index."
   ]
  },
  {
   "cell_type": "markdown",
   "id": "57ff916c-da14-4e35-b551-307f32edc4b4",
   "metadata": {},
   "source": [
    "Now, here: \\\n",
    "b1 = -1.2951931651912754 \\\n",
    "b0 = 106.69501055874487 \\\n",
    "Degrees of freedom = n - 2 = 20 -2 = 18"
   ]
  },
  {
   "cell_type": "code",
   "execution_count": 32,
   "id": "107b33c6-2b16-4ee9-a714-80fea667c8f9",
   "metadata": {},
   "outputs": [
    {
     "data": {
      "text/plain": [
       "(-225.45309243180031, 222.86270610141776)"
      ]
     },
     "execution_count": 32,
     "metadata": {},
     "output_type": "execute_result"
    }
   ],
   "source": [
    "b1 = -1.2951931651912754 \n",
    "se_b1 = 106.69501055874487\n",
    "df = 18\n",
    "\n",
    "t_critical = stats.t.ppf(1 - 0.025, df)\n",
    "\n",
    "lower_bound = b1 - t_critical * se_b1\n",
    "upper_bound = b1 + t_critical * se_b1\n",
    "\n",
    "lower_bound, upper_bound"
   ]
  },
  {
   "cell_type": "code",
   "execution_count": null,
   "id": "d4302df5-fb8c-4bdd-8648-5fe6b9b04d8d",
   "metadata": {},
   "outputs": [],
   "source": []
  },
  {
   "cell_type": "code",
   "execution_count": null,
   "id": "5c2deb9c-7920-4261-bec6-98e265e3bcc8",
   "metadata": {},
   "outputs": [],
   "source": []
  },
  {
   "cell_type": "code",
   "execution_count": null,
   "id": "c9050be9-3285-44aa-ae94-47bebf1bf31d",
   "metadata": {},
   "outputs": [],
   "source": []
  },
  {
   "cell_type": "code",
   "execution_count": null,
   "id": "efb1bdd5-a36f-4ce6-8a06-16b83c9ab84e",
   "metadata": {},
   "outputs": [],
   "source": []
  },
  {
   "cell_type": "code",
   "execution_count": null,
   "id": "d89a3aea-0cd3-4c48-b577-2a90d8f67cf6",
   "metadata": {},
   "outputs": [],
   "source": []
  },
  {
   "cell_type": "code",
   "execution_count": null,
   "id": "0960348b-3fc3-4380-8b71-e0d16ed577fd",
   "metadata": {},
   "outputs": [],
   "source": []
  },
  {
   "cell_type": "code",
   "execution_count": null,
   "id": "89e34770-81a7-40c3-afa1-194bf82d6d73",
   "metadata": {},
   "outputs": [],
   "source": []
  },
  {
   "cell_type": "code",
   "execution_count": null,
   "id": "6e4379fc-1147-42a6-810b-c034d71c8400",
   "metadata": {},
   "outputs": [],
   "source": []
  }
 ],
 "metadata": {
  "kernelspec": {
   "display_name": "Python 3 (ipykernel)",
   "language": "python",
   "name": "python3"
  },
  "language_info": {
   "codemirror_mode": {
    "name": "ipython",
    "version": 3
   },
   "file_extension": ".py",
   "mimetype": "text/x-python",
   "name": "python",
   "nbconvert_exporter": "python",
   "pygments_lexer": "ipython3",
   "version": "3.12.4"
  }
 },
 "nbformat": 4,
 "nbformat_minor": 5
}
